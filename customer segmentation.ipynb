{
 "cells": [
  {
   "cell_type": "code",
   "execution_count": 1,
   "metadata": {},
   "outputs": [
    {
     "data": {
      "text/html": [
       "<div>\n",
       "<style scoped>\n",
       "    .dataframe tbody tr th:only-of-type {\n",
       "        vertical-align: middle;\n",
       "    }\n",
       "\n",
       "    .dataframe tbody tr th {\n",
       "        vertical-align: top;\n",
       "    }\n",
       "\n",
       "    .dataframe thead th {\n",
       "        text-align: right;\n",
       "    }\n",
       "</style>\n",
       "<table border=\"1\" class=\"dataframe\">\n",
       "  <thead>\n",
       "    <tr style=\"text-align: right;\">\n",
       "      <th></th>\n",
       "      <th>CustomerID</th>\n",
       "      <th>Gender</th>\n",
       "      <th>Age</th>\n",
       "      <th>Annual Income (k$)</th>\n",
       "      <th>Spending Score (1-100)</th>\n",
       "    </tr>\n",
       "  </thead>\n",
       "  <tbody>\n",
       "    <tr>\n",
       "      <td>0</td>\n",
       "      <td>1</td>\n",
       "      <td>Male</td>\n",
       "      <td>19</td>\n",
       "      <td>15</td>\n",
       "      <td>39</td>\n",
       "    </tr>\n",
       "    <tr>\n",
       "      <td>1</td>\n",
       "      <td>2</td>\n",
       "      <td>Male</td>\n",
       "      <td>21</td>\n",
       "      <td>15</td>\n",
       "      <td>81</td>\n",
       "    </tr>\n",
       "    <tr>\n",
       "      <td>2</td>\n",
       "      <td>3</td>\n",
       "      <td>Female</td>\n",
       "      <td>20</td>\n",
       "      <td>16</td>\n",
       "      <td>6</td>\n",
       "    </tr>\n",
       "    <tr>\n",
       "      <td>3</td>\n",
       "      <td>4</td>\n",
       "      <td>Female</td>\n",
       "      <td>23</td>\n",
       "      <td>16</td>\n",
       "      <td>77</td>\n",
       "    </tr>\n",
       "    <tr>\n",
       "      <td>4</td>\n",
       "      <td>5</td>\n",
       "      <td>Female</td>\n",
       "      <td>31</td>\n",
       "      <td>17</td>\n",
       "      <td>40</td>\n",
       "    </tr>\n",
       "  </tbody>\n",
       "</table>\n",
       "</div>"
      ],
      "text/plain": [
       "   CustomerID  Gender  Age  Annual Income (k$)  Spending Score (1-100)\n",
       "0           1    Male   19                  15                      39\n",
       "1           2    Male   21                  15                      81\n",
       "2           3  Female   20                  16                       6\n",
       "3           4  Female   23                  16                      77\n",
       "4           5  Female   31                  17                      40"
      ]
     },
     "execution_count": 1,
     "metadata": {},
     "output_type": "execute_result"
    }
   ],
   "source": [
    "import numpy as np\n",
    "import seaborn as sns\n",
    "import pandas as pd\n",
    "import matplotlib.pyplot as plt\n",
    "from sklearn.cluster import KMeans\n",
    "import pandas as pd\n",
    "df = pd.read_csv(\"Mall_Customers.csv\")\n",
    "df.head()"
   ]
  },
  {
   "cell_type": "code",
   "execution_count": 2,
   "metadata": {},
   "outputs": [
    {
     "name": "stdout",
     "output_type": "stream",
     "text": [
      "<class 'pandas.core.frame.DataFrame'>\n",
      "RangeIndex: 200 entries, 0 to 199\n",
      "Data columns (total 5 columns):\n",
      "CustomerID                200 non-null int64\n",
      "Gender                    200 non-null object\n",
      "Age                       200 non-null int64\n",
      "Annual Income (k$)        200 non-null int64\n",
      "Spending Score (1-100)    200 non-null int64\n",
      "dtypes: int64(4), object(1)\n",
      "memory usage: 7.9+ KB\n"
     ]
    }
   ],
   "source": [
    "df.info()"
   ]
  },
  {
   "cell_type": "code",
   "execution_count": 3,
   "metadata": {},
   "outputs": [
    {
     "data": {
      "text/plain": [
       "<matplotlib.axes._subplots.AxesSubplot at 0x17c48ed99c8>"
      ]
     },
     "execution_count": 3,
     "metadata": {},
     "output_type": "execute_result"
    },
    {
     "data": {
      "image/png": "[encoded data removed]",
      "text/plain": [
       "<Figure size 432x288 with 1 Axes>"
      ]
     },
     "metadata": {
      "needs_background": "light"
     },
     "output_type": "display_data"
    }
   ],
   "source": [
    "sns.boxplot(x=df[\"Annual Income (k$)\"])"
   ]
  },
  {
   "cell_type": "code",
   "execution_count": 4,
   "metadata": {},
   "outputs": [
    {
     "data": {
      "text/plain": [
       "<matplotlib.axes._subplots.AxesSubplot at 0x17c4920f248>"
      ]
     },
     "execution_count": 4,
     "metadata": {},
     "output_type": "execute_result"
    },
    {
     "data": {
      "image/png": "[encoded data removed]",
      "text/plain": [
       "<Figure size 432x288 with 1 Axes>"
      ]
     },
     "metadata": {
      "needs_background": "light"
     },
     "output_type": "display_data"
    }
   ],
   "source": [
    "sns.boxplot(x=df[\"Spending Score (1-100)\"])"
   ]
  },
  {
   "cell_type": "code",
   "execution_count": 5,
   "metadata": {},
   "outputs": [
    {
     "data": {
      "image/png": "[encoded data removed]",
      "text/plain": [
       "<Figure size 720x288 with 1 Axes>"
      ]
     },
     "metadata": {},
     "output_type": "display_data"
    }
   ],
   "source": [
    "genders = df.Gender.value_counts()\n",
    "sns.set_style(\"darkgrid\")\n",
    "plt.figure(figsize=(10,4))\n",
    "sns.barplot(x=genders.index, y=genders.values)\n",
    "plt.show()"
   ]
  },
  {
   "cell_type": "code",
   "execution_count": 6,
   "metadata": {},
   "outputs": [
    {
     "data": {
      "image/png": "[encoded data removed]",
      "text/plain": [
       "<Figure size 1080x432 with 1 Axes>"
      ]
     },
     "metadata": {},
     "output_type": "display_data"
    }
   ],
   "source": [
    "age18_25 = df.Age[(df.Age <= 25) & (df.Age >= 18)]\n",
    "age26_35 = df.Age[(df.Age <= 35) & (df.Age >= 26)]\n",
    "age36_45 = df.Age[(df.Age <= 45) & (df.Age >= 36)]\n",
    "age46_55 = df.Age[(df.Age <= 55) & (df.Age >= 46)]\n",
    "age55above = df.Age[df.Age >= 56]\n",
    "\n",
    "x = [\"18-25\",\"26-35\",\"36-45\",\"46-55\",\"55+\"]\n",
    "y = [len(age18_25.values),len(age26_35.values),len(age36_45.values),len(age46_55.values),len(age55above.values)]\n",
    "\n",
    "plt.figure(figsize=(15,6))\n",
    "sns.barplot(x=x, y=y, palette=\"rocket\")\n",
    "plt.title(\"Number of Customer and Ages\")\n",
    "plt.xlabel(\"Age\")\n",
    "plt.ylabel(\"Number of Customer\")\n",
    "plt.show()"
   ]
  },
  {
   "cell_type": "code",
   "execution_count": 7,
   "metadata": {},
   "outputs": [
    {
     "data": {
      "text/plain": [
       "array([[-1.73899919, -0.43480148],\n",
       "       [-1.73899919,  1.19570407],\n",
       "       [-1.70082976, -1.71591298],\n",
       "       [-1.70082976,  1.04041783],\n",
       "       [-1.66266033, -0.39597992],\n",
       "       [-1.66266033,  1.00159627],\n",
       "       [-1.62449091, -1.71591298],\n",
       "       [-1.62449091,  1.70038436],\n",
       "       [-1.58632148, -1.83237767],\n",
       "       [-1.58632148,  0.84631002],\n",
       "       [-1.58632148, -1.4053405 ],\n",
       "       [-1.58632148,  1.89449216],\n",
       "       [-1.54815205, -1.36651894],\n",
       "       [-1.54815205,  1.04041783],\n",
       "       [-1.54815205, -1.44416206],\n",
       "       [-1.54815205,  1.11806095],\n",
       "       [-1.50998262, -0.59008772],\n",
       "       [-1.50998262,  0.61338066],\n",
       "       [-1.43364376, -0.82301709],\n",
       "       [-1.43364376,  1.8556706 ],\n",
       "       [-1.39547433, -0.59008772],\n",
       "       [-1.39547433,  0.88513158],\n",
       "       [-1.3573049 , -1.75473454],\n",
       "       [-1.3573049 ,  0.88513158],\n",
       "       [-1.24279661, -1.4053405 ],\n",
       "       [-1.24279661,  1.23452563],\n",
       "       [-1.24279661, -0.7065524 ],\n",
       "       [-1.24279661,  0.41927286],\n",
       "       [-1.20462718, -0.74537397],\n",
       "       [-1.20462718,  1.42863343],\n",
       "       [-1.16645776, -1.7935561 ],\n",
       "       [-1.16645776,  0.88513158],\n",
       "       [-1.05194947, -1.7935561 ],\n",
       "       [-1.05194947,  1.62274124],\n",
       "       [-1.05194947, -1.4053405 ],\n",
       "       [-1.05194947,  1.19570407],\n",
       "       [-1.01378004, -1.28887582],\n",
       "       [-1.01378004,  0.88513158],\n",
       "       [-0.89927175, -0.93948177],\n",
       "       [-0.89927175,  0.96277471],\n",
       "       [-0.86110232, -0.59008772],\n",
       "       [-0.86110232,  1.62274124],\n",
       "       [-0.82293289, -0.55126616],\n",
       "       [-0.82293289,  0.41927286],\n",
       "       [-0.82293289, -0.86183865],\n",
       "       [-0.82293289,  0.5745591 ],\n",
       "       [-0.78476346,  0.18634349],\n",
       "       [-0.78476346, -0.12422899],\n",
       "       [-0.78476346, -0.3183368 ],\n",
       "       [-0.78476346, -0.3183368 ],\n",
       "       [-0.70842461,  0.06987881],\n",
       "       [-0.70842461,  0.38045129],\n",
       "       [-0.67025518,  0.14752193],\n",
       "       [-0.67025518,  0.38045129],\n",
       "       [-0.67025518, -0.20187212],\n",
       "       [-0.67025518, -0.35715836],\n",
       "       [-0.63208575, -0.00776431],\n",
       "       [-0.63208575, -0.16305055],\n",
       "       [-0.55574689,  0.03105725],\n",
       "       [-0.55574689, -0.16305055],\n",
       "       [-0.55574689,  0.22516505],\n",
       "       [-0.55574689,  0.18634349],\n",
       "       [-0.51757746,  0.06987881],\n",
       "       [-0.51757746,  0.34162973],\n",
       "       [-0.47940803,  0.03105725],\n",
       "       [-0.47940803,  0.34162973],\n",
       "       [-0.47940803, -0.00776431],\n",
       "       [-0.47940803, -0.08540743],\n",
       "       [-0.47940803,  0.34162973],\n",
       "       [-0.47940803, -0.12422899],\n",
       "       [-0.4412386 ,  0.18634349],\n",
       "       [-0.4412386 , -0.3183368 ],\n",
       "       [-0.40306917, -0.04658587],\n",
       "       [-0.40306917,  0.22516505],\n",
       "       [-0.25039146, -0.12422899],\n",
       "       [-0.25039146,  0.14752193],\n",
       "       [-0.25039146,  0.10870037],\n",
       "       [-0.25039146, -0.08540743],\n",
       "       [-0.25039146,  0.06987881],\n",
       "       [-0.25039146, -0.3183368 ],\n",
       "       [-0.25039146,  0.03105725],\n",
       "       [-0.25039146,  0.18634349],\n",
       "       [-0.25039146, -0.35715836],\n",
       "       [-0.25039146, -0.24069368],\n",
       "       [-0.25039146,  0.26398661],\n",
       "       [-0.25039146, -0.16305055],\n",
       "       [-0.13588317,  0.30280817],\n",
       "       [-0.13588317,  0.18634349],\n",
       "       [-0.09771374,  0.38045129],\n",
       "       [-0.09771374, -0.16305055],\n",
       "       [-0.05954431,  0.18634349],\n",
       "       [-0.05954431, -0.35715836],\n",
       "       [-0.02137488, -0.04658587],\n",
       "       [-0.02137488, -0.39597992],\n",
       "       [-0.02137488, -0.3183368 ],\n",
       "       [-0.02137488,  0.06987881],\n",
       "       [-0.02137488, -0.12422899],\n",
       "       [-0.02137488, -0.00776431],\n",
       "       [ 0.01679455, -0.3183368 ],\n",
       "       [ 0.01679455, -0.04658587],\n",
       "       [ 0.05496398, -0.35715836],\n",
       "       [ 0.05496398, -0.08540743],\n",
       "       [ 0.05496398,  0.34162973],\n",
       "       [ 0.05496398,  0.18634349],\n",
       "       [ 0.05496398,  0.22516505],\n",
       "       [ 0.05496398, -0.3183368 ],\n",
       "       [ 0.09313341, -0.00776431],\n",
       "       [ 0.09313341, -0.16305055],\n",
       "       [ 0.09313341, -0.27951524],\n",
       "       [ 0.09313341, -0.08540743],\n",
       "       [ 0.09313341,  0.06987881],\n",
       "       [ 0.09313341,  0.14752193],\n",
       "       [ 0.13130284, -0.3183368 ],\n",
       "       [ 0.13130284, -0.16305055],\n",
       "       [ 0.16947227, -0.08540743],\n",
       "       [ 0.16947227, -0.00776431],\n",
       "       [ 0.16947227, -0.27951524],\n",
       "       [ 0.16947227,  0.34162973],\n",
       "       [ 0.24581112, -0.27951524],\n",
       "       [ 0.24581112,  0.26398661],\n",
       "       [ 0.24581112,  0.22516505],\n",
       "       [ 0.24581112, -0.39597992],\n",
       "       [ 0.32214998,  0.30280817],\n",
       "       [ 0.32214998,  1.58391968],\n",
       "       [ 0.36031941, -0.82301709],\n",
       "       [ 0.36031941,  1.04041783],\n",
       "       [ 0.39848884, -0.59008772],\n",
       "       [ 0.39848884,  1.73920592],\n",
       "       [ 0.39848884, -1.52180518],\n",
       "       [ 0.39848884,  0.96277471],\n",
       "       [ 0.39848884, -1.5994483 ],\n",
       "       [ 0.39848884,  0.96277471],\n",
       "       [ 0.43665827, -0.62890928],\n",
       "       [ 0.43665827,  0.80748846],\n",
       "       [ 0.4748277 , -1.75473454],\n",
       "       [ 0.4748277 ,  1.46745499],\n",
       "       [ 0.4748277 , -1.67709142],\n",
       "       [ 0.4748277 ,  0.88513158],\n",
       "       [ 0.51299713, -1.56062674],\n",
       "       [ 0.51299713,  0.84631002],\n",
       "       [ 0.55116656, -1.75473454],\n",
       "       [ 0.55116656,  1.6615628 ],\n",
       "       [ 0.58933599, -0.39597992],\n",
       "       [ 0.58933599,  1.42863343],\n",
       "       [ 0.62750542, -1.48298362],\n",
       "       [ 0.62750542,  1.81684904],\n",
       "       [ 0.62750542, -0.55126616],\n",
       "       [ 0.62750542,  0.92395314],\n",
       "       [ 0.66567484, -1.09476801],\n",
       "       [ 0.66567484,  1.54509812],\n",
       "       [ 0.66567484, -1.28887582],\n",
       "       [ 0.66567484,  1.46745499],\n",
       "       [ 0.66567484, -1.17241113],\n",
       "       [ 0.66567484,  1.00159627],\n",
       "       [ 0.66567484, -1.32769738],\n",
       "       [ 0.66567484,  1.50627656],\n",
       "       [ 0.66567484, -1.91002079],\n",
       "       [ 0.66567484,  1.07923939],\n",
       "       [ 0.66567484, -1.91002079],\n",
       "       [ 0.66567484,  0.88513158],\n",
       "       [ 0.70384427, -0.59008772],\n",
       "       [ 0.70384427,  1.27334719],\n",
       "       [ 0.78018313, -1.75473454],\n",
       "       [ 0.78018313,  1.6615628 ],\n",
       "       [ 0.93286085, -0.93948177],\n",
       "       [ 0.93286085,  0.96277471],\n",
       "       [ 0.97103028, -1.17241113],\n",
       "       [ 0.97103028,  1.73920592],\n",
       "       [ 1.00919971, -0.90066021],\n",
       "       [ 1.00919971,  0.49691598],\n",
       "       [ 1.00919971, -1.44416206],\n",
       "       [ 1.00919971,  0.96277471],\n",
       "       [ 1.00919971, -1.56062674],\n",
       "       [ 1.00919971,  1.62274124],\n",
       "       [ 1.04736914, -1.44416206],\n",
       "       [ 1.04736914,  1.38981187],\n",
       "       [ 1.04736914, -1.36651894],\n",
       "       [ 1.04736914,  0.72984534],\n",
       "       [ 1.23821628, -1.4053405 ],\n",
       "       [ 1.23821628,  1.54509812],\n",
       "       [ 1.390894  , -0.7065524 ],\n",
       "       [ 1.390894  ,  1.38981187],\n",
       "       [ 1.42906343, -1.36651894],\n",
       "       [ 1.42906343,  1.46745499],\n",
       "       [ 1.46723286, -0.43480148],\n",
       "       [ 1.46723286,  1.81684904],\n",
       "       [ 1.54357172, -1.01712489],\n",
       "       [ 1.54357172,  0.69102378],\n",
       "       [ 1.61991057, -1.28887582],\n",
       "       [ 1.61991057,  1.35099031],\n",
       "       [ 1.61991057, -1.05594645],\n",
       "       [ 1.61991057,  0.72984534],\n",
       "       [ 2.00160487, -1.63826986],\n",
       "       [ 2.00160487,  1.58391968],\n",
       "       [ 2.26879087, -1.32769738],\n",
       "       [ 2.26879087,  1.11806095],\n",
       "       [ 2.49780745, -0.86183865],\n",
       "       [ 2.49780745,  0.92395314],\n",
       "       [ 2.91767117, -1.25005425],\n",
       "       [ 2.91767117,  1.27334719]])"
      ]
     },
     "execution_count": 7,
     "metadata": {},
     "output_type": "execute_result"
    }
   ],
   "source": [
    "from sklearn.preprocessing import StandardScaler\n",
    "X = df.values[:,[3,4]]\n",
    "X = np.nan_to_num(X)\n",
    "Clus_dataSet = StandardScaler().fit_transform(X)\n",
    "Clus_dataSet"
   ]
  },
  {
   "cell_type": "code",
   "execution_count": 8,
   "metadata": {},
   "outputs": [],
   "source": [
    "wcss=[]\n",
    "for i in range(1,11):\n",
    "    kmeans = KMeans(n_clusters= i, init='k-means++', random_state=0)\n",
    "    kmeans.fit(X)\n",
    "    wcss.append(kmeans.inertia_)"
   ]
  },
  {
   "cell_type": "code",
   "execution_count": 9,
   "metadata": {},
   "outputs": [
    {
     "data": {
      "image/png": "[encoded data removed]",
      "text/plain": [
       "<Figure size 432x288 with 1 Axes>"
      ]
     },
     "metadata": {},
     "output_type": "display_data"
    }
   ],
   "source": [
    "plt.plot(range(1,11), wcss)\n",
    "plt.title('The Elbow Method')\n",
    "plt.xlabel('no of clusters')\n",
    "plt.ylabel('wcss')\n",
    "plt.show()"
   ]
  },
  {
   "cell_type": "code",
   "execution_count": 10,
   "metadata": {},
   "outputs": [
    {
     "data": {
      "text/plain": [
       "array([4, 3, 4, 3, 4, 3, 4, 3, 4, 3, 4, 3, 4, 3, 4, 3, 4, 3, 4, 3, 4, 3,\n",
       "       4, 3, 4, 3, 4, 3, 4, 3, 4, 3, 4, 3, 4, 3, 4, 3, 4, 3, 4, 3, 4, 1,\n",
       "       4, 3, 1, 1, 1, 1, 1, 1, 1, 1, 1, 1, 1, 1, 1, 1, 1, 1, 1, 1, 1, 1,\n",
       "       1, 1, 1, 1, 1, 1, 1, 1, 1, 1, 1, 1, 1, 1, 1, 1, 1, 1, 1, 1, 1, 1,\n",
       "       1, 1, 1, 1, 1, 1, 1, 1, 1, 1, 1, 1, 1, 1, 1, 1, 1, 1, 1, 1, 1, 1,\n",
       "       1, 1, 1, 1, 1, 1, 1, 1, 1, 1, 1, 1, 1, 2, 0, 2, 1, 2, 0, 2, 0, 2,\n",
       "       1, 2, 0, 2, 0, 2, 0, 2, 0, 2, 1, 2, 0, 2, 0, 2, 0, 2, 0, 2, 0, 2,\n",
       "       0, 2, 0, 2, 0, 2, 0, 2, 0, 2, 0, 2, 0, 2, 0, 2, 0, 2, 0, 2, 0, 2,\n",
       "       0, 2, 0, 2, 0, 2, 0, 2, 0, 2, 0, 2, 0, 2, 0, 2, 0, 2, 0, 2, 0, 2,\n",
       "       0, 2])"
      ]
     },
     "execution_count": 10,
     "metadata": {},
     "output_type": "execute_result"
    }
   ],
   "source": [
    "kmeansmodel = KMeans(n_clusters= 5, init='k-means++', random_state=0)\n",
    "y_kmeans= kmeansmodel.fit_predict(X)\n",
    "y_kmeans"
   ]
  },
  {
   "cell_type": "code",
   "execution_count": 11,
   "metadata": {},
   "outputs": [
    {
     "data": {
      "image/png": "[encoded data removed]",
      "text/plain": [
       "<Figure size 432x288 with 1 Axes>"
      ]
     },
     "metadata": {},
     "output_type": "display_data"
    }
   ],
   "source": [
    "plt.scatter(X[y_kmeans == 0, 0], X[y_kmeans == 0, 1], s = 100, c = 'yellow', label = 'Cluster 1')\n",
    "plt.scatter(X[y_kmeans == 1, 0], X[y_kmeans == 1, 1], s = 100, c = 'blue', label = 'Cluster 2')\n",
    "plt.scatter(X[y_kmeans == 2, 0], X[y_kmeans == 2, 1], s = 100, c = 'green', label = 'Cluster 3')\n",
    "plt.scatter(X[y_kmeans == 3, 0], X[y_kmeans == 3, 1], s = 100, c = 'cyan', label = 'Cluster 4')\n",
    "plt.scatter(X[y_kmeans == 4, 0], X[y_kmeans == 4, 1], s = 100, c = 'magenta', label = 'Cluster 5')\n",
    "plt.scatter(kmeansmodel.cluster_centers_[:, 0], kmeansmodel.cluster_centers_[:, 1], s = 300, c = 'red', label = 'Centroids')\n",
    "plt.title('Clusters of customers')\n",
    "plt.xlabel('Annual Income (k$)')\n",
    "plt.ylabel('Spending Score (1-100)')\n",
    "plt.legend()\n",
    "plt.show()"
   ]
  },
  {
   "cell_type": "code",
   "execution_count": null,
   "metadata": {},
   "outputs": [],
   "source": []
  }
 ],
 "metadata": {
  "kernelspec": {
   "display_name": "Python 3",
   "language": "python",
   "name": "python3"
  },
  "language_info": {
   "codemirror_mode": {
    "name": "ipython",
    "version": 3
   },
   "file_extension": ".py",
   "mimetype": "text/x-python",
   "name": "python",
   "nbconvert_exporter": "python",
   "pygments_lexer": "ipython3",
   "version": "3.7.4"
  }
 },
 "nbformat": 4,
 "nbformat_minor": 2
}
